{
 "cells": [
  {
   "cell_type": "markdown",
   "id": "427d91ce",
   "metadata": {},
   "source": [
    "CODE AND PRACTICE"
   ]
  },
  {
   "cell_type": "code",
   "execution_count": null,
   "id": "a4b9866c",
   "metadata": {},
   "outputs": [
    {
     "data": {
      "text/plain": [
       "array([[1, 2, 5, 4],\n",
       "       [1, 3, 5, 3]])"
      ]
     },
     "execution_count": 3,
     "metadata": {},
     "output_type": "execute_result"
    }
   ],
   "source": [
    "import numpy as np\n",
    "import matplotlib as plt\n",
    "np.load(\"array1.npy\")\n",
    "# For boxplot (to compare distribution)\n",
    "##(df.plot(column=\"sepal.length\", by=\"variety\")\n",
    "plt.title(\"Sepal Length by Variety\")\n",
    "plt.suptitle(\"\")  # Removes the default title\n",
    "plt.xlabel(\"Variety\")\n",
    "plt.ylabel(\"Sepal Length\")\n",
    "plt.show()\n"
   ]
  }
 ],
 "metadata": {
  "kernelspec": {
   "display_name": "Python 3",
   "language": "python",
   "name": "python3"
  },
  "language_info": {
   "codemirror_mode": {
    "name": "ipython",
    "version": 3
   },
   "file_extension": ".py",
   "mimetype": "text/x-python",
   "name": "python",
   "nbconvert_exporter": "python",
   "pygments_lexer": "ipython3",
   "version": "3.11.9"
  }
 },
 "nbformat": 4,
 "nbformat_minor": 5
}
