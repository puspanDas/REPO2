{
 "cells": [
  {
   "cell_type": "code",
   "execution_count": 3,
   "id": "765e2433",
   "metadata": {},
   "outputs": [
    {
     "name": "stdout",
     "output_type": "stream",
     "text": [
      "<class 'pandas.core.frame.DataFrame'>\n",
      "RangeIndex: 4340 entries, 0 to 4339\n",
      "Data columns (total 8 columns):\n",
      " #   Column         Non-Null Count  Dtype \n",
      "---  ------         --------------  ----- \n",
      " 0   name           4340 non-null   object\n",
      " 1   year           4340 non-null   int64 \n",
      " 2   selling_price  4340 non-null   int64 \n",
      " 3   km_driven      4340 non-null   int64 \n",
      " 4   fuel           4340 non-null   object\n",
      " 5   seller_type    4340 non-null   object\n",
      " 6   transmission   4340 non-null   object\n",
      " 7   owner          4340 non-null   object\n",
      "dtypes: int64(3), object(5)\n",
      "memory usage: 271.4+ KB\n",
      "name             0\n",
      "year             0\n",
      "selling_price    0\n",
      "km_driven        0\n",
      "fuel             0\n",
      "seller_type      0\n",
      "transmission     0\n",
      "owner            0\n",
      "dtype: int64\n"
     ]
    }
   ],
   "source": [
    "import pandas as pd\n",
    "df =  pd.read_csv(\"CAR DETAILS FROM CAR DEKHO.csv\")\n",
    "df.info()\n",
    "print(df.isnull().sum())"
   ]
  },
  {
   "cell_type": "markdown",
   "id": "017f076e",
   "metadata": {},
   "source": [
    "remove duplicate\n"
   ]
  },
  {
   "cell_type": "code",
   "execution_count": 8,
   "id": "dff5ab5a",
   "metadata": {},
   "outputs": [
    {
     "name": "stdout",
     "output_type": "stream",
     "text": [
      "Duplicated 0\n",
      "removed_duplicated_rows_shape: (3577, 8)\n"
     ]
    }
   ],
   "source": [
    "#remove duplicated\n",
    "print(\"Duplicated\",df.duplicated().sum())\n",
    "#remove duplicated rows\n",
    "df =df.drop_duplicates()\n",
    "print(\"removed_duplicated_rows_shape:\",df.shape)\n",
    "\n"
   ]
  },
  {
   "cell_type": "code",
   "execution_count": 9,
   "id": "2b141b31",
   "metadata": {},
   "outputs": [
    {
     "name": "stdout",
     "output_type": "stream",
     "text": [
      "Index(['name', 'year', 'selling_price', 'km_driven', 'fuel', 'seller_type',\n",
      "       'transmission', 'owner'],\n",
      "      dtype='object')\n"
     ]
    }
   ],
   "source": [
    "#standarize column rows\n",
    "df.columns = df.columns.str.strip().str.lower().str.replace(\" \", \"_\")\n",
    "print(df.columns)\n"
   ]
  },
  {
   "cell_type": "code",
   "execution_count": 15,
   "id": "937d7e59",
   "metadata": {},
   "outputs": [
    {
     "name": "stdout",
     "output_type": "stream",
     "text": [
      "0        70000\n",
      "1        50000\n",
      "2       100000\n",
      "3        46000\n",
      "4       141000\n",
      "         ...  \n",
      "4335     80000\n",
      "4336     80000\n",
      "4337     83000\n",
      "4338     90000\n",
      "4339     40000\n",
      "Name: km_driven, Length: 3577, dtype: int64\n",
      "0        60000\n",
      "1       135000\n",
      "2       600000\n",
      "3       250000\n",
      "4       450000\n",
      "         ...  \n",
      "4335    409999\n",
      "4336    409999\n",
      "4337    110000\n",
      "4338    865000\n",
      "4339    225000\n",
      "Name: selling_price, Length: 3577, dtype: int64\n",
      "              year  selling_price      km_driven\n",
      "count  3577.000000   3.577000e+03    3577.000000\n",
      "mean   2012.962538   4.739125e+05   69250.545709\n",
      "std       4.251759   5.093018e+05   47579.940016\n",
      "min    1992.000000   2.000000e+04       1.000000\n",
      "25%    2010.000000   2.000000e+05   36000.000000\n",
      "50%    2013.000000   3.500000e+05   60000.000000\n",
      "75%    2016.000000   6.000000e+05   90000.000000\n",
      "max    2020.000000   8.900000e+06  806599.000000\n",
      "fuel\n",
      "Diesel      1800\n",
      "Petrol      1717\n",
      "Cng           37\n",
      "Lpg           22\n",
      "Electric       1\n",
      "Name: count, dtype: int64\n",
      "owner\n",
      "First Owner             2218\n",
      "Second Owner             978\n",
      "Third Owner              289\n",
      "Fourth & Above Owner      75\n",
      "Test Drive Car            17\n",
      "Name: count, dtype: int64\n",
      "✅ Cleaned data saved to car_data_cleaned.csv\n"
     ]
    }
   ],
   "source": [
    "# Remove commas in km_driven and convert to int\n",
    "df['km_driven'] = df['km_driven'].astype(str).str.replace(\",\", \"\").astype(int)\n",
    "\n",
    "# Selling price should be integer\n",
    "df['selling_price'] = df['selling_price'].astype(int)\n",
    "\n",
    "print(df['km_driven'])\n",
    "print(df['selling_price'])\n",
    "# Remove leading/trailing spaces and standardize case\n",
    "for col in ['name', 'fuel', 'seller_type', 'transmission', 'owner']:\n",
    "    df[col] = df[col].str.strip().str.title()\n",
    "# Example: Remove cars with unrealistic km_driven (>1,000,000) or price (>1 crore)\n",
    "df = df[(df['km_driven'] < 1_000_000) & (df['selling_price'] < 10_000_000)]\n",
    "# Numerical summary\n",
    "print(df.describe())\n",
    "\n",
    "# Unique value counts for important categorical variables\n",
    "print(df['fuel'].value_counts())\n",
    "print(df['owner'].value_counts())\n",
    "df.to_csv(\"car_data_cleaned.csv\", index=False)\n",
    "print(\"✅ Cleaned data saved to car_data_cleaned.csv\")\n"
   ]
  },
  {
   "cell_type": "code",
   "execution_count": 34,
   "id": "7bf0cb1b",
   "metadata": {},
   "outputs": [
    {
     "name": "stdout",
     "output_type": "stream",
     "text": [
      "[ 70000  50000 100000 ...  83000  90000  40000]\n",
      "type of data int64\n",
      "806599\n",
      "[    70000    120000    220000 ... 247579202 247669202 247709202]\n",
      "type of cumalative sum int64\n"
     ]
    }
   ],
   "source": [
    "import pandas as pd\n",
    "import numpy as np\n",
    "df = pd.read_csv(\"car_data_cleaned.csv\")\n",
    "#df.describe()\n",
    "#df.info()\n",
    "#print(df.head())\n",
    "#print(df[\"km_driven\"].max())\n",
    "df1 = df[\"km_driven\"]\n",
    "df2 = df[\"selling_price\"]\n",
    "\n",
    "compare_data=df1.compare(df2)\n",
    "#print(compare_data)\n",
    "#print(df2.value_counts())\n",
    "#print(df1.value_counts())\n",
    "#print(\"km_driven for overall average:\",df1.mean()-df2.median())\n",
    "#print(df.iloc[1])\n",
    "#print(type[df[\"km_driven\"]])\n",
    "arr_1d = df[\"km_driven\"].to_numpy()\n",
    "print(arr_1d)\n",
    "print(\"type of data\",arr_1d.dtype)\n",
    "arr_1d_max = np.max(arr_1d)\n",
    "print(arr_1d_max)\n",
    "arr_1d_cumsum = np.cumsum(arr_1d)\n",
    "print(arr_1d_cumsum)\n",
    "print(\"type of cumalative sum\",arr_1d_cumsum.dtype)"
   ]
  }
 ],
 "metadata": {
  "kernelspec": {
   "display_name": "Python 3",
   "language": "python",
   "name": "python3"
  },
  "language_info": {
   "codemirror_mode": {
    "name": "ipython",
    "version": 3
   },
   "file_extension": ".py",
   "mimetype": "text/x-python",
   "name": "python",
   "nbconvert_exporter": "python",
   "pygments_lexer": "ipython3",
   "version": "3.11.9"
  }
 },
 "nbformat": 4,
 "nbformat_minor": 5
}
